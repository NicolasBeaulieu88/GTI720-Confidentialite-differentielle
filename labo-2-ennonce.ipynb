{
 "cells": [
  {
   "cell_type": "markdown",
   "id": "2f2a6ded",
   "metadata": {},
   "source": [
    "# GTI720 - Protection des renseignements personnels\n",
    "\n",
    "## Laboratoire 2"
   ]
  },
  {
   "cell_type": "markdown",
   "id": "5b09cd9a",
   "metadata": {},
   "source": [
    "| NOMS                  | CODE PERMANENT                                   |\n",
    "|-----------------------|--------------------------------------------------|\n",
    "| Étudiant1             | Code1                                            |\n",
    "| Étudiant2             | Code2                                            |\n",
    "| Étudiant3             | Code3                                            |"
   ]
  },
  {
   "attachments": {},
   "cell_type": "markdown",
   "id": "d68fd469-db97-4a40-9fe5-79c62398c10c",
   "metadata": {},
   "source": [
    "## Description\n",
    "- Le but de ce laboratoire est de vous familiariser à la confidentialité différentielle. Vous allez apprendre entre autre à créer des mécanismes différentiellement confidentiels, à expliquer l'importance du paramètre de confidentialité $\\epsilon$, à comprendre et utiliser les propriétés de composition de la confidentialité différentielle, faire l'analyse de confidentialité de mécanismes différentiellement confidentiels et à générer des données synthétiques préservant la vie privée. \n",
    "- Ce laboratoire est réalisé avec Python et les librairies `pandas`, `numpy`, `matplotlib`, `dduo-python`, `smartnoise-synth`. \n",
    "- Dans ce labo, on continuera à utiliser l'environnement virtuel python `gti720`."
   ]
  },
  {
   "attachments": {},
   "cell_type": "markdown",
   "id": "a9989b0e-696e-4f41-9c77-ff080a22b00d",
   "metadata": {},
   "source": [
    "### Partie I (85 points)"
   ]
  },
  {
   "cell_type": "code",
   "execution_count": 1,
   "id": "7639dd13-6706-4203-9f1e-a278c3839ab7",
   "metadata": {},
   "outputs": [],
   "source": [
    "# importation des librairies\n",
    "import pandas as pd\n",
    "import numpy as np\n",
    "import matplotlib.pyplot as plt\n",
    "from scipy import stats"
   ]
  },
  {
   "cell_type": "code",
   "execution_count": 19,
   "id": "b32a7e29-b095-49ca-8c77-e331c107a4b4",
   "metadata": {},
   "outputs": [],
   "source": [
    "# implémentation du mécanisme Laplace\n",
    "def laplace_mech(v, sensitivity, epsilon):\n",
    "    return v + np.random.laplace(loc=0, scale=sensitivity / epsilon)"
   ]
  },
  {
   "cell_type": "code",
   "execution_count": 3,
   "id": "20235126-ae41-4129-9a49-a48d4616544f",
   "metadata": {},
   "outputs": [],
   "source": [
    "# implémentation du mécanisme Gaussien\n",
    "def gaussian_mech(v, sensitivity, epsilon, delta):\n",
    "    return v + np.random.normal(loc=0, scale=sensitivity * np.sqrt(2*np.log(1.25/delta)) / epsilon)"
   ]
  },
  {
   "cell_type": "code",
   "execution_count": 4,
   "id": "010279d2-a214-4ed3-a55b-8960f318b1d6",
   "metadata": {},
   "outputs": [],
   "source": [
    "# renvoie le pourcentage d'erreur relative entre une requêt originale et sa version privée\n",
    "def pct_error(orig, priv):\n",
    "    return 100.0*np.abs(orig - priv)/orig"
   ]
  },
  {
   "cell_type": "code",
   "execution_count": 5,
   "id": "5c8c930f-4f91-40c2-a43c-77391f49d330",
   "metadata": {},
   "outputs": [
    {
     "data": {
      "text/html": [
       "<div>\n",
       "<style scoped>\n",
       "    .dataframe tbody tr th:only-of-type {\n",
       "        vertical-align: middle;\n",
       "    }\n",
       "\n",
       "    .dataframe tbody tr th {\n",
       "        vertical-align: top;\n",
       "    }\n",
       "\n",
       "    .dataframe thead th {\n",
       "        text-align: right;\n",
       "    }\n",
       "</style>\n",
       "<table border=\"1\" class=\"dataframe\">\n",
       "  <thead>\n",
       "    <tr style=\"text-align: right;\">\n",
       "      <th></th>\n",
       "      <th>Name</th>\n",
       "      <th>DOB</th>\n",
       "      <th>SSN</th>\n",
       "      <th>Zip</th>\n",
       "      <th>Age</th>\n",
       "      <th>Workclass</th>\n",
       "      <th>fnlwgt</th>\n",
       "      <th>Education</th>\n",
       "      <th>Education-Num</th>\n",
       "      <th>Marital Status</th>\n",
       "      <th>Occupation</th>\n",
       "      <th>Relationship</th>\n",
       "      <th>Race</th>\n",
       "      <th>Sex</th>\n",
       "      <th>Capital Gain</th>\n",
       "      <th>Capital Loss</th>\n",
       "      <th>Hours per week</th>\n",
       "      <th>Country</th>\n",
       "      <th>Target</th>\n",
       "    </tr>\n",
       "  </thead>\n",
       "  <tbody>\n",
       "    <tr>\n",
       "      <th>0</th>\n",
       "      <td>Karrie Trusslove</td>\n",
       "      <td>9/7/1967</td>\n",
       "      <td>732-14-6110</td>\n",
       "      <td>64152</td>\n",
       "      <td>39</td>\n",
       "      <td>State-gov</td>\n",
       "      <td>77516</td>\n",
       "      <td>Bachelors</td>\n",
       "      <td>13</td>\n",
       "      <td>Never-married</td>\n",
       "      <td>Adm-clerical</td>\n",
       "      <td>Not-in-family</td>\n",
       "      <td>White</td>\n",
       "      <td>Male</td>\n",
       "      <td>2174</td>\n",
       "      <td>0</td>\n",
       "      <td>40</td>\n",
       "      <td>United-States</td>\n",
       "      <td>&lt;=50K</td>\n",
       "    </tr>\n",
       "    <tr>\n",
       "      <th>1</th>\n",
       "      <td>Brandise Tripony</td>\n",
       "      <td>6/7/1988</td>\n",
       "      <td>150-19-2766</td>\n",
       "      <td>61523</td>\n",
       "      <td>50</td>\n",
       "      <td>Self-emp-not-inc</td>\n",
       "      <td>83311</td>\n",
       "      <td>Bachelors</td>\n",
       "      <td>13</td>\n",
       "      <td>Married-civ-spouse</td>\n",
       "      <td>Exec-managerial</td>\n",
       "      <td>Husband</td>\n",
       "      <td>White</td>\n",
       "      <td>Male</td>\n",
       "      <td>0</td>\n",
       "      <td>0</td>\n",
       "      <td>13</td>\n",
       "      <td>United-States</td>\n",
       "      <td>&lt;=50K</td>\n",
       "    </tr>\n",
       "    <tr>\n",
       "      <th>2</th>\n",
       "      <td>Brenn McNeely</td>\n",
       "      <td>8/6/1991</td>\n",
       "      <td>725-59-9860</td>\n",
       "      <td>95668</td>\n",
       "      <td>38</td>\n",
       "      <td>Private</td>\n",
       "      <td>215646</td>\n",
       "      <td>HS-grad</td>\n",
       "      <td>9</td>\n",
       "      <td>Divorced</td>\n",
       "      <td>Handlers-cleaners</td>\n",
       "      <td>Not-in-family</td>\n",
       "      <td>White</td>\n",
       "      <td>Male</td>\n",
       "      <td>0</td>\n",
       "      <td>0</td>\n",
       "      <td>40</td>\n",
       "      <td>United-States</td>\n",
       "      <td>&lt;=50K</td>\n",
       "    </tr>\n",
       "    <tr>\n",
       "      <th>3</th>\n",
       "      <td>Dorry Poter</td>\n",
       "      <td>4/6/2009</td>\n",
       "      <td>659-57-4974</td>\n",
       "      <td>25503</td>\n",
       "      <td>53</td>\n",
       "      <td>Private</td>\n",
       "      <td>234721</td>\n",
       "      <td>11th</td>\n",
       "      <td>7</td>\n",
       "      <td>Married-civ-spouse</td>\n",
       "      <td>Handlers-cleaners</td>\n",
       "      <td>Husband</td>\n",
       "      <td>Black</td>\n",
       "      <td>Male</td>\n",
       "      <td>0</td>\n",
       "      <td>0</td>\n",
       "      <td>40</td>\n",
       "      <td>United-States</td>\n",
       "      <td>&lt;=50K</td>\n",
       "    </tr>\n",
       "    <tr>\n",
       "      <th>4</th>\n",
       "      <td>Dick Honnan</td>\n",
       "      <td>9/16/1951</td>\n",
       "      <td>220-93-3811</td>\n",
       "      <td>75387</td>\n",
       "      <td>28</td>\n",
       "      <td>Private</td>\n",
       "      <td>338409</td>\n",
       "      <td>Bachelors</td>\n",
       "      <td>13</td>\n",
       "      <td>Married-civ-spouse</td>\n",
       "      <td>Prof-specialty</td>\n",
       "      <td>Wife</td>\n",
       "      <td>Black</td>\n",
       "      <td>Female</td>\n",
       "      <td>0</td>\n",
       "      <td>0</td>\n",
       "      <td>40</td>\n",
       "      <td>Cuba</td>\n",
       "      <td>&lt;=50K</td>\n",
       "    </tr>\n",
       "    <tr>\n",
       "      <th>...</th>\n",
       "      <td>...</td>\n",
       "      <td>...</td>\n",
       "      <td>...</td>\n",
       "      <td>...</td>\n",
       "      <td>...</td>\n",
       "      <td>...</td>\n",
       "      <td>...</td>\n",
       "      <td>...</td>\n",
       "      <td>...</td>\n",
       "      <td>...</td>\n",
       "      <td>...</td>\n",
       "      <td>...</td>\n",
       "      <td>...</td>\n",
       "      <td>...</td>\n",
       "      <td>...</td>\n",
       "      <td>...</td>\n",
       "      <td>...</td>\n",
       "      <td>...</td>\n",
       "      <td>...</td>\n",
       "    </tr>\n",
       "    <tr>\n",
       "      <th>32556</th>\n",
       "      <td>Ardyce Golby</td>\n",
       "      <td>10/29/1961</td>\n",
       "      <td>212-61-8338</td>\n",
       "      <td>41328</td>\n",
       "      <td>27</td>\n",
       "      <td>Private</td>\n",
       "      <td>257302</td>\n",
       "      <td>Assoc-acdm</td>\n",
       "      <td>12</td>\n",
       "      <td>Married-civ-spouse</td>\n",
       "      <td>Tech-support</td>\n",
       "      <td>Wife</td>\n",
       "      <td>White</td>\n",
       "      <td>Female</td>\n",
       "      <td>0</td>\n",
       "      <td>0</td>\n",
       "      <td>38</td>\n",
       "      <td>United-States</td>\n",
       "      <td>&lt;=50K</td>\n",
       "    </tr>\n",
       "    <tr>\n",
       "      <th>32557</th>\n",
       "      <td>Jean O'Connor</td>\n",
       "      <td>6/28/1952</td>\n",
       "      <td>737-32-2919</td>\n",
       "      <td>94735</td>\n",
       "      <td>40</td>\n",
       "      <td>Private</td>\n",
       "      <td>154374</td>\n",
       "      <td>HS-grad</td>\n",
       "      <td>9</td>\n",
       "      <td>Married-civ-spouse</td>\n",
       "      <td>Machine-op-inspct</td>\n",
       "      <td>Husband</td>\n",
       "      <td>White</td>\n",
       "      <td>Male</td>\n",
       "      <td>0</td>\n",
       "      <td>0</td>\n",
       "      <td>40</td>\n",
       "      <td>United-States</td>\n",
       "      <td>&gt;50K</td>\n",
       "    </tr>\n",
       "    <tr>\n",
       "      <th>32558</th>\n",
       "      <td>Reuben Skrzynski</td>\n",
       "      <td>8/9/1966</td>\n",
       "      <td>314-48-0219</td>\n",
       "      <td>49628</td>\n",
       "      <td>58</td>\n",
       "      <td>Private</td>\n",
       "      <td>151910</td>\n",
       "      <td>HS-grad</td>\n",
       "      <td>9</td>\n",
       "      <td>Widowed</td>\n",
       "      <td>Adm-clerical</td>\n",
       "      <td>Unmarried</td>\n",
       "      <td>White</td>\n",
       "      <td>Female</td>\n",
       "      <td>0</td>\n",
       "      <td>0</td>\n",
       "      <td>40</td>\n",
       "      <td>United-States</td>\n",
       "      <td>&lt;=50K</td>\n",
       "    </tr>\n",
       "    <tr>\n",
       "      <th>32559</th>\n",
       "      <td>Caye Biddle</td>\n",
       "      <td>5/19/1978</td>\n",
       "      <td>647-75-3550</td>\n",
       "      <td>8213</td>\n",
       "      <td>22</td>\n",
       "      <td>Private</td>\n",
       "      <td>201490</td>\n",
       "      <td>HS-grad</td>\n",
       "      <td>9</td>\n",
       "      <td>Never-married</td>\n",
       "      <td>Adm-clerical</td>\n",
       "      <td>Own-child</td>\n",
       "      <td>White</td>\n",
       "      <td>Male</td>\n",
       "      <td>0</td>\n",
       "      <td>0</td>\n",
       "      <td>20</td>\n",
       "      <td>United-States</td>\n",
       "      <td>&lt;=50K</td>\n",
       "    </tr>\n",
       "    <tr>\n",
       "      <th>32560</th>\n",
       "      <td>Hortense Hardesty</td>\n",
       "      <td>5/11/2012</td>\n",
       "      <td>690-42-5638</td>\n",
       "      <td>86153</td>\n",
       "      <td>52</td>\n",
       "      <td>Self-emp-inc</td>\n",
       "      <td>287927</td>\n",
       "      <td>HS-grad</td>\n",
       "      <td>9</td>\n",
       "      <td>Married-civ-spouse</td>\n",
       "      <td>Exec-managerial</td>\n",
       "      <td>Wife</td>\n",
       "      <td>White</td>\n",
       "      <td>Female</td>\n",
       "      <td>15024</td>\n",
       "      <td>0</td>\n",
       "      <td>40</td>\n",
       "      <td>United-States</td>\n",
       "      <td>&gt;50K</td>\n",
       "    </tr>\n",
       "  </tbody>\n",
       "</table>\n",
       "<p>30162 rows × 19 columns</p>\n",
       "</div>"
      ],
      "text/plain": [
       "                    Name         DOB          SSN    Zip  Age  \\\n",
       "0       Karrie Trusslove    9/7/1967  732-14-6110  64152   39   \n",
       "1       Brandise Tripony    6/7/1988  150-19-2766  61523   50   \n",
       "2          Brenn McNeely    8/6/1991  725-59-9860  95668   38   \n",
       "3            Dorry Poter    4/6/2009  659-57-4974  25503   53   \n",
       "4            Dick Honnan   9/16/1951  220-93-3811  75387   28   \n",
       "...                  ...         ...          ...    ...  ...   \n",
       "32556       Ardyce Golby  10/29/1961  212-61-8338  41328   27   \n",
       "32557      Jean O'Connor   6/28/1952  737-32-2919  94735   40   \n",
       "32558   Reuben Skrzynski    8/9/1966  314-48-0219  49628   58   \n",
       "32559        Caye Biddle   5/19/1978  647-75-3550   8213   22   \n",
       "32560  Hortense Hardesty   5/11/2012  690-42-5638  86153   52   \n",
       "\n",
       "              Workclass  fnlwgt   Education  Education-Num  \\\n",
       "0             State-gov   77516   Bachelors             13   \n",
       "1      Self-emp-not-inc   83311   Bachelors             13   \n",
       "2               Private  215646     HS-grad              9   \n",
       "3               Private  234721        11th              7   \n",
       "4               Private  338409   Bachelors             13   \n",
       "...                 ...     ...         ...            ...   \n",
       "32556           Private  257302  Assoc-acdm             12   \n",
       "32557           Private  154374     HS-grad              9   \n",
       "32558           Private  151910     HS-grad              9   \n",
       "32559           Private  201490     HS-grad              9   \n",
       "32560      Self-emp-inc  287927     HS-grad              9   \n",
       "\n",
       "           Marital Status         Occupation   Relationship   Race     Sex  \\\n",
       "0           Never-married       Adm-clerical  Not-in-family  White    Male   \n",
       "1      Married-civ-spouse    Exec-managerial        Husband  White    Male   \n",
       "2                Divorced  Handlers-cleaners  Not-in-family  White    Male   \n",
       "3      Married-civ-spouse  Handlers-cleaners        Husband  Black    Male   \n",
       "4      Married-civ-spouse     Prof-specialty           Wife  Black  Female   \n",
       "...                   ...                ...            ...    ...     ...   \n",
       "32556  Married-civ-spouse       Tech-support           Wife  White  Female   \n",
       "32557  Married-civ-spouse  Machine-op-inspct        Husband  White    Male   \n",
       "32558             Widowed       Adm-clerical      Unmarried  White  Female   \n",
       "32559       Never-married       Adm-clerical      Own-child  White    Male   \n",
       "32560  Married-civ-spouse    Exec-managerial           Wife  White  Female   \n",
       "\n",
       "       Capital Gain  Capital Loss  Hours per week        Country Target  \n",
       "0              2174             0              40  United-States  <=50K  \n",
       "1                 0             0              13  United-States  <=50K  \n",
       "2                 0             0              40  United-States  <=50K  \n",
       "3                 0             0              40  United-States  <=50K  \n",
       "4                 0             0              40           Cuba  <=50K  \n",
       "...             ...           ...             ...            ...    ...  \n",
       "32556             0             0              38  United-States  <=50K  \n",
       "32557             0             0              40  United-States   >50K  \n",
       "32558             0             0              40  United-States  <=50K  \n",
       "32559             0             0              20  United-States  <=50K  \n",
       "32560         15024             0              40  United-States   >50K  \n",
       "\n",
       "[30162 rows x 19 columns]"
      ]
     },
     "execution_count": 5,
     "metadata": {},
     "output_type": "execute_result"
    }
   ],
   "source": [
    "# importation du jeux de données\n",
    "adult = pd.read_csv('https://github.com/tisl-lab/data-privacy-class/blob/main/data/adult_with_pii.csv?raw=true')\n",
    "adult = adult.dropna()\n",
    "adult"
   ]
  },
  {
   "attachments": {},
   "cell_type": "markdown",
   "id": "2c2f2824-4c69-4af6-b138-0c6452cdeb93",
   "metadata": {},
   "source": [
    "### Question 1 (2 points)\n",
    "Proposez une fonction `query_1` pour répondre à la question suivante: \"Combien de personnes n'ont jamais été mariées?\""
   ]
  },
  {
   "cell_type": "code",
   "execution_count": 6,
   "id": "53f51aa4-f5c4-4d66-9f88-3cb524c804fb",
   "metadata": {},
   "outputs": [
    {
     "data": {
      "text/plain": [
       "9726"
      ]
     },
     "execution_count": 6,
     "metadata": {},
     "output_type": "execute_result"
    }
   ],
   "source": [
    "def query_1():\n",
    "    return adult['Marital Status'].value_counts()['Never-married']\n",
    "\n",
    "query_1()"
   ]
  },
  {
   "cell_type": "code",
   "execution_count": null,
   "id": "3e3861a9-e6db-4c3f-886b-9d89fefdaf13",
   "metadata": {},
   "outputs": [],
   "source": [
    "## test unitaire\n",
    "assert query_1() == 9726"
   ]
  },
  {
   "attachments": {},
   "cell_type": "markdown",
   "id": "839049ae-fe82-4ccf-a81e-0d50c1dff6fc",
   "metadata": {
    "tags": []
   },
   "source": [
    "### Question 2 (2 points)\n",
    "Quelle est la sensitivité globale $l_1$ de la fonction `query_1`? Justifiez votre réponse."
   ]
  },
  {
   "cell_type": "markdown",
   "id": "d0622a01",
   "metadata": {},
   "source": [
    "#TODO"
   ]
  },
  {
   "attachments": {},
   "cell_type": "markdown",
   "id": "94d63e31-316b-4ae2-9a5b-557e7b8d7d89",
   "metadata": {},
   "source": [
    "### Question 3 (4 points)\n",
    "À l'aide de la fonction `laplace_mech` implémentant le mécanisme Laplace, proposez une version différentiellement confidentielle `query_1_dp` de `query_1`, avec $\\epsilon=0.1$."
   ]
  },
  {
   "cell_type": "code",
   "execution_count": 20,
   "id": "ea64f59a-bc6a-40ee-8923-ecd04d8e0800",
   "metadata": {},
   "outputs": [
    {
     "data": {
      "text/plain": [
       "9807.982947277522"
      ]
     },
     "execution_count": 20,
     "metadata": {},
     "output_type": "execute_result"
    }
   ],
   "source": [
    "def query_1_dp(epsilon):\n",
    "    return laplace_mech(query_1(), 1, epsilon)\n",
    "    \n",
    "query_1_dp(0.1)"
   ]
  },
  {
   "cell_type": "code",
   "execution_count": 8,
   "id": "e04be664-4f52-4f0e-9773-33b65bc03f02",
   "metadata": {},
   "outputs": [],
   "source": [
    "## test unitaire\n",
    "dp_runs = [query_1_dp(0.1) for _ in range(100)]\n",
    "noise_runs = [np.random.laplace(loc=9726, scale=1/0.1) for _ in range(100)]\n",
    "assert stats.wasserstein_distance(dp_runs, noise_runs) < 10"
   ]
  },
  {
   "attachments": {},
   "cell_type": "markdown",
   "id": "1c9f3625-62bd-4b50-bc3c-76882696a901",
   "metadata": {},
   "source": [
    "### Question 4 (4 points)\n",
    "À l'aide de la fonction `pct_error`, implémentez la fonction `graph_error_1` qui:\n",
    "\n",
    "- Effectue 1000 appels à la fonction `query_1_dp`\n",
    "- Calcule, pour chaque appel, le pourcentage d'erreur relative entre la réponse privée et la valeur originale non-privée\n",
    "- Affiche la courbe de la distribution des erreurs\n",
    "\n",
    "*Astuce*: Utilisez `plt.hist(..., bins=20, alpha=0.5)`.\n",
    "\n",
    "À l'aide de la fonction `graph_error_1` ainsi implémentée, affichez la courbe de la distribution des erreurs pour $\\epsilon=0.1$ et $\\epsilon=1.0$."
   ]
  },
  {
   "cell_type": "code",
   "execution_count": 11,
   "id": "f926827b-24ae-4a9b-b43b-e0a4b5509714",
   "metadata": {},
   "outputs": [
    {
     "data": {
      "image/png": "[encoded data removed]",
      "text/plain": [
       "<Figure size 640x480 with 1 Axes>"
      ]
     },
     "metadata": {},
     "output_type": "display_data"
    },
    {
     "data": {
      "image/png": "[encoded data removed]",
      "text/plain": [
       "<Figure size 640x480 with 1 Axes>"
      ]
     },
     "metadata": {},
     "output_type": "display_data"
    }
   ],
   "source": [
    "def graph_error_1(epsilon):    \n",
    "    errors = [pct_error(query_1(), query_1_dp(epsilon)) for i in range(1000)]\n",
    "    plt.hist(errors, bins=20, alpha=0.5)\n",
    "    return plt.show()\n",
    "    \n",
    "graph_error_1(0.1)\n",
    "graph_error_1(1.0)"
   ]
  },
  {
   "attachments": {},
   "cell_type": "markdown",
   "id": "53a28248-2bbe-494d-b1ab-fb41b530a5ad",
   "metadata": {},
   "source": [
    "### Question 5 (3 points)\n",
    "- En quoi l'histogramme des erreurs relatives pour $\\epsilon=0.1$ diffère de celui pour $\\epsilon=1.0$\n",
    "- Que pouvez-vous conclure sur l'impact de la valeur de $\\epsilon$ sur l'erreur relative?"
   ]
  },
  {
   "cell_type": "markdown",
   "id": "1f584ae8",
   "metadata": {},
   "source": [
    "TODO"
   ]
  },
  {
   "attachments": {},
   "cell_type": "markdown",
   "id": "580abe0d-4ecd-4be0-8f83-0398a1071167",
   "metadata": {},
   "source": [
    "### Question 6 (2 points)\n",
    "Proposez une fonction `query_2` pour répondre à la question suivante: \"Combien de personnes ont plus de 60 ans?\""
   ]
  },
  {
   "cell_type": "code",
   "execution_count": 12,
   "id": "a5acbab7-d373-4e67-ad01-f3b0d2de8f2b",
   "metadata": {},
   "outputs": [
    {
     "data": {
      "text/plain": [
       "1806"
      ]
     },
     "execution_count": 12,
     "metadata": {},
     "output_type": "execute_result"
    }
   ],
   "source": [
    "def query_2():\n",
    "    return adult[adult['Age'] > 60].shape[0]\n",
    "    \n",
    "query_2()"
   ]
  },
  {
   "attachments": {},
   "cell_type": "markdown",
   "id": "d9517095-2a4e-4271-8f4a-cc1d15a61dde",
   "metadata": {},
   "source": [
    "### Question 7 (4 points)\n",
    "Comme pour la **Question 3**, proposez une version différentiellement confidentielle `query_2_dp` de `query_2`, avec $\\epsilon=0.1$."
   ]
  },
  {
   "cell_type": "code",
   "execution_count": 21,
   "id": "8f377508-ad4b-4f7b-8b93-c4fbb725eaa8",
   "metadata": {},
   "outputs": [
    {
     "data": {
      "text/plain": [
       "1793.9250959383137"
      ]
     },
     "execution_count": 21,
     "metadata": {},
     "output_type": "execute_result"
    }
   ],
   "source": [
    "def query_2_dp(epsilon):\n",
    "    return laplace_mech(query_2(), 1, epsilon)\n",
    "    \n",
    "query_2_dp(0.1)"
   ]
  },
  {
   "attachments": {},
   "cell_type": "markdown",
   "id": "b6a88749-c0b2-4eaf-acdf-611d000d6f7a",
   "metadata": {},
   "source": [
    "### Question 8 (4 points)\n",
    "- Comme pour la **Question 4**, proposez une fonction `graph_error_2`, qui affiche l'erreur relative de `query_2_dp`\n",
    "- Afficher sur un même graphe les courbes de la distribution des erreurs avec `graph_error_1` et `graph_error_2` pour $\\epsilon=1.0$"
   ]
  },
  {
   "cell_type": "code",
   "execution_count": 22,
   "id": "7b87e68d-3188-4025-9e0c-fa404593e6aa",
   "metadata": {},
   "outputs": [
    {
     "data": {
      "image/png": "[encoded data removed]",
      "text/plain": [
       "<Figure size 640x480 with 1 Axes>"
      ]
     },
     "metadata": {},
     "output_type": "display_data"
    },
    {
     "data": {
      "image/png": "[encoded data removed]",
      "text/plain": [
       "<Figure size 640x480 with 1 Axes>"
      ]
     },
     "metadata": {},
     "output_type": "display_data"
    }
   ],
   "source": [
    "def graph_error_2(epsilon):\n",
    "    errors = [pct_error(query_2(), query_2_dp(epsilon)) for i in range(1000)]\n",
    "    plt.hist(errors, bins=20, alpha=0.5)\n",
    "    return plt.show()\n",
    "    \n",
    "graph_error_1(1.0)\n",
    "graph_error_2(1.0)"
   ]
  },
  {
   "attachments": {},
   "cell_type": "markdown",
   "id": "a6477beb-f230-41d9-8386-e90924784b57",
   "metadata": {},
   "source": [
    "### Question 9 (3 points)\n",
    "- À l'aide des graphes obtenus avec la **Question 8**, expliquez comment le méchanisme `query_1_dp` diffère du mécanisme `query_2_dp` en terme d'erreur relative pour une même valeur du paramètre $\\epsilon$.\n",
    "- Quelle est la raison de cette différence?"
   ]
  },
  {
   "cell_type": "markdown",
   "id": "004907d6",
   "metadata": {},
   "source": [
    "TODO"
   ]
  },
  {
   "attachments": {},
   "cell_type": "markdown",
   "id": "90e47cde-0eb4-4913-a91a-7b0af60d5cbe",
   "metadata": {},
   "source": [
    "### Question 10 (4 points)\n",
    "Considérons l'attaque de différenciation `differencing_attack` suivante:"
   ]
  },
  {
   "cell_type": "code",
   "execution_count": 23,
   "id": "920df186-9710-49e8-8b4e-2aeea79345bc",
   "metadata": {},
   "outputs": [
    {
     "name": "stdout",
     "output_type": "stream",
     "text": [
      "Résultat de l'attaque de différenciation 40\n"
     ]
    }
   ],
   "source": [
    "def differencing_attack():\n",
    "    q1 = adult['Hours per week'].sum()\n",
    "    q2 = adult[adult['Name'] != 'Faith McCloughlin']['Hours per week'].sum()\n",
    "    return q1 - q2\n",
    "\n",
    "print(\"Résultat de l'attaque de différenciation\", differencing_attack())"
   ]
  },
  {
   "attachments": {},
   "cell_type": "markdown",
   "id": "672ea8a9",
   "metadata": {},
   "source": [
    "Le résultat du code précédent montre comment un adversaire, observant la publication des \n",
    "statisques (publiées à différent moment) du jeu de données, pourrait déduire le nombre d'heures de travail de Faith McCloughlin."
   ]
  },
  {
   "attachments": {},
   "cell_type": "markdown",
   "id": "81a09b84-73fd-4498-b27b-01b74ba57314",
   "metadata": {},
   "source": [
    "On suppose que le nombre d'heure de travail maximal d'un individu est de 100 heures\n",
    "- À l'aide de la fonction `laplace_mech` proposez une version différentiellement confidentielle `differencing_attack_dp` de `differencing_attack`.\n",
    "\n",
    "- Utilisez `epsilon=1.0`.\n",
    "\n",
    "- Que pouvez-vous conclure par rapport à l'efficaté des attaques de différienciation sur des requêtes différentiellement confidentielles?"
   ]
  },
  {
   "cell_type": "code",
   "execution_count": 30,
   "id": "7cc8ca99-7597-4d91-b9ef-a06aff35b9db",
   "metadata": {},
   "outputs": [
    {
     "name": "stdout",
     "output_type": "stream",
     "text": [
      "Résultat de l'attaque de différenciation privée 39.7137065962655\n"
     ]
    }
   ],
   "source": [
    "def differencing_attack_dp():\n",
    "    return laplace_mech(differencing_attack(), 1, 1)\n",
    "\n",
    "print(\"Résultat de l'attaque de différenciation privée\", differencing_attack_dp())"
   ]
  },
  {
   "cell_type": "markdown",
   "id": "4b768371",
   "metadata": {},
   "source": [
    "TODO"
   ]
  },
  {
   "attachments": {},
   "cell_type": "markdown",
   "id": "ab44c047-de9e-472e-a2e4-92859abe9ae6",
   "metadata": {},
   "source": [
    "### Question 11 (3 points)\n",
    "- Complétez la définition de la fonction `dp_sum_capgain` qui calcule la somme de la colonne `Capital Gain` du jeu de donné `adult` de manière différentiellement confidentielle. La fonction devra prendre en argument `epsilon` et avoir un budget total de confidentialité de `epsilon`\n",
    "- Calculer cette somme pour $\\epsilon=1.0$\n",
    "- On supposera que la valeur minimale (resp. maximale) du 'Capital Gain' est 0 (resp. 100000). Il faut donc utiliser la fonction clip pour transformer la colonne `Capital Gain` avant d'appliquer le bruit."
   ]
  },
  {
   "cell_type": "code",
   "execution_count": null,
   "id": "182b0ef4-254b-489c-a616-7c2f8f6a80bb",
   "metadata": {},
   "outputs": [],
   "source": [
    "def dp_sum_capgain(epsilon):\n",
    "    # votre code ici\n",
    "    raise NotImplementedError()\n",
    "    \n",
    "dp_sum_capgain(1.0)"
   ]
  },
  {
   "attachments": {},
   "cell_type": "markdown",
   "id": "3144d706-5377-4d01-a905-38dbce413f4e",
   "metadata": {},
   "source": [
    "### Question 12 (3 points)\n",
    "- Expliquez comment votre implementation de `dp_sum_capgain` satisfait à la contrainte du budet total de `epsilon`\n",
    "- Quelle est la sensibilité de la requête utilisée dans `dp_sum_capgain`?"
   ]
  },
  {
   "attachments": {},
   "cell_type": "markdown",
   "id": "845b3b7a-e898-4b1c-8158-7f7fd2a7de2d",
   "metadata": {},
   "source": [
    "### Question 13 (3 points)\n",
    "- Complétez la définition de la fonction `dp_avg_capgain` qui calcule la moyenne de la colonne `Capital Gain` du jeu de données `adult` de manière différentiellement confidentielle. La fonction devra prendre en argument `epsilon`, utiliser la fonction `dp_sum_capgain`, et avoir un budget total de confidentialité de`epsilon`\n",
    "- Calculer cette moyenne pour $\\epsilon=1.0$"
   ]
  },
  {
   "cell_type": "code",
   "execution_count": null,
   "id": "be9b3b94-16fe-41d6-9157-425f5c27101f",
   "metadata": {},
   "outputs": [],
   "source": [
    "def dp_avg_capgain(epsilon):\n",
    "    # Votre code ici\n",
    "    raise NotImplementedError()\n",
    "\n",
    "dp_avg_capgain(1.0)"
   ]
  },
  {
   "attachments": {},
   "cell_type": "markdown",
   "id": "7f82cace-ad47-4bd5-b17d-d37a65ada7ac",
   "metadata": {},
   "source": [
    "### Question 14 (3 points)\n",
    "- Expliquez comment votre implementation de `dp_avg_capgain` satisfait à la contrainte du budget total de `epsilon`.\n",
    "- Quelles sont les deux propriétés de la confidentialité différentielle que vous avez utilisé pour calculer ce budget total?"
   ]
  },
  {
   "attachments": {},
   "cell_type": "markdown",
   "id": "c707fc66-20d8-4d4f-a6b0-f253429993a5",
   "metadata": {},
   "source": [
    "### Question 15 (4 points)\n",
    "- Complétez la définition de la fonction `dp_occupation_histogram` qui calcule l'histogramme de la colonne `Occupation` du jeu de données `adult` de manière différentiellement confidentielle. La fonction devra prendre en argument `epsilon`, utiliser la composition parallèle et avoir un budget total de confidentialité de `epsilon`\n",
    "- Calculer cet histogramme pour $\\epsilon=1.0$\n",
    "\n",
    "- *Astuce*: Pensez à utliser les fonctions `value_counts` et `apply` de `pandas` ainsi que la fonction `laplace_mech`"
   ]
  },
  {
   "cell_type": "code",
   "execution_count": null,
   "id": "7977abaf-9620-4e40-83d6-33969a2c085c",
   "metadata": {},
   "outputs": [],
   "source": [
    "def dp_occupation_histogram(epsilon):\n",
    "    # Votre code ici\n",
    "    raise NotImplementedError()\n",
    "    \n",
    "dp_occupation_histogram(1.0)"
   ]
  },
  {
   "attachments": {},
   "cell_type": "markdown",
   "id": "33bd8650-1000-47ba-8059-ae01e4461670",
   "metadata": {},
   "source": [
    "### Question 16 (3 points)\n",
    "- Expliquez comment votre implementation de `dp_occupation_histogram` satisfait à la contrainte du budget total de `epsilon`.\n",
    "- Comment vos résultats changeraient-ils (en termes de précision) si vous aviez utilisé la composition séquentielle au lieu de la composition parallèle pour implémenter `dp_occupation_histogram`, et pourquoi ?\n",
    "- Si vous partitionnez les données par *à la fois* la profession et l'âge (c'est-à-dire un tableau de contingence), la composition parallèle s'appliquerait-elle toujours ? Justifiez votre réponse\n",
    "- Si vous partitionnez les données à la fois par profession et par âge, qu'adviendrait-il de la précision? Justifiez votre réponse"
   ]
  },
  {
   "attachments": {},
   "cell_type": "markdown",
   "id": "98428578-cba6-4e47-899b-19c4c269393a",
   "metadata": {},
   "source": [
    "### Question 17 (4 points)\n",
    "- Complétez la définition de la fonction `dp_crosstab_education_sex` qui calcule la table de contingence des colonnes `Education` et `Sex` du jeu de données `adult` de manière différentiellement confidentielle. La fonction devra prendre en argument `epsilon`, utiliser la composition parallèle et avoir un budget total de confidentialité de `epsilon`\n",
    "- Calculer cette table de contigence pour $\\epsilon=1.0$\n",
    "\n",
    "- *Astuce*: Pensez à utliser les fonctions `crosstab` et `applymap` de `pandas` ainsi que la fonction `laplace_mech`"
   ]
  },
  {
   "cell_type": "code",
   "execution_count": null,
   "id": "1370bd41-6dbf-4d10-a1fd-44bd3f8a7af6",
   "metadata": {},
   "outputs": [],
   "source": [
    "def dp_crosstab_education_sex(epsilon):\n",
    "    # Votre code ici\n",
    "    raise NotImplementedError()\n",
    "\n",
    "dp_crosstab_education_sex(1.0)"
   ]
  },
  {
   "attachments": {},
   "cell_type": "markdown",
   "id": "d73afc5a-cb78-4558-894e-8aab9ded1294",
   "metadata": {},
   "source": [
    "### Question 18 (3 points)\n",
    "- Expliquez comment votre implementation de `dp_crosstab_education_sex` satisfait à la contrainte du budget total de `epsilon`.\n",
    "- Le nombre de colonnes utilisées dans la construction de la table de contingence a-t-il une incidence sur le coût de la confidentialité ? Justifiez votre réponse\n",
    "- Le nombre de colonnes utilisées dans la construction de la table de contingence a-t-il une incidence sur la précision ? Justifiez votre réponse"
   ]
  },
  {
   "attachments": {},
   "cell_type": "markdown",
   "id": "135c30ff-5ca0-42ef-81ec-01cff6e40eb7",
   "metadata": {},
   "source": [
    "### Question 19 (3 points)\n",
    "- Comment les mécanismes de Laplace et Gaussien se comparent-ils en termes d'erreur relative sur la requête \"Combien de personnes ont plus de 60 ans?\" pour $\\epsilon = 1$ et $\\delta = 10^{-5}$\n",
    "- Pour répondre à cette question: \n",
    "    - Servez-vous des fonctions `query_2_dp` et `graph_error_2` utilisées dans les **Questions 7** et **8** \n",
    "    - Développez leur équivalent pour le mécanisme Gaussien à l'aide de la fonction `gaussian_mech`\n",
    "    - Affichez les deux courbes d'erreurs relative sur le même graphe"
   ]
  },
  {
   "attachments": {},
   "cell_type": "markdown",
   "id": "b91374cd-3fa0-437b-b017-8b4b08f94a5e",
   "metadata": {},
   "source": [
    "### Question 20 (3 points)\n",
    "Proposez une version vectorisée `laplace_mech_vec` de la fonction `laplace_mech`"
   ]
  },
  {
   "cell_type": "code",
   "execution_count": null,
   "id": "f67602fa-8c8d-45fc-9eab-d5b9033616dc",
   "metadata": {},
   "outputs": [],
   "source": [
    "def laplace_mech_vec(vec, sensitivity, epsilon):\n",
    "    # Votre code ici\n",
    "    raise NotImplementedError()\n",
    "\n",
    "laplace_mech_vec([1,2,3,4], 1, 1.0)"
   ]
  },
  {
   "attachments": {},
   "cell_type": "markdown",
   "id": "d80fdeba-9887-4bfe-b23b-2043bbced903",
   "metadata": {},
   "source": [
    "### Question 21 (3 points)\n",
    "Proposez une version vectorisée `gaussian_mech_vec` de la fonction `gaussian_mech`"
   ]
  },
  {
   "cell_type": "code",
   "execution_count": null,
   "id": "1cde7576-d176-4d0a-9768-a9f2255bd8c8",
   "metadata": {},
   "outputs": [],
   "source": [
    "def gaussian_mech_vec(vec, sensitivity, epsilon, delta):\n",
    "    # Votre code ici\n",
    "    raise NotImplementedError()\n",
    "\n",
    "gaussian_mech_vec([1,2,3,4], 1, 1.0, 1e-5)"
   ]
  },
  {
   "attachments": {},
   "cell_type": "markdown",
   "id": "88136e1c-d848-4c84-9d12-e06915ce4c8e",
   "metadata": {},
   "source": [
    "### Question 22 (3 points)\n",
    "Considérez le code ci-dessous, qui définit trois requêtes d'agrégation et les exécute sur le jeu de données `adult`, en utilisant le mécanisme de Laplace pour fournir une confidentialité différentielle avec $\\epsilon = 1$ pour chaque requête."
   ]
  },
  {
   "cell_type": "code",
   "execution_count": null,
   "id": "7284fcb5-4ec8-4adc-9dc0-f864eaba2fb4",
   "metadata": {},
   "outputs": [],
   "source": [
    "b_capgain = 10000\n",
    "b_age = 3000\n",
    "epsilon = 1.0\n",
    "\n",
    "def query1():\n",
    "    return np.sum(adult['Capital Gain'].clip(lower=0, upper=b_capgain))\n",
    "\n",
    "def query2():\n",
    "    return len(adult[adult['Education-Num'] < 10])\n",
    "\n",
    "def query3():\n",
    "    return np.sum(adult['Age'].clip(lower=0, upper=b_age))\n",
    "\n",
    "def my_query():\n",
    "    return [query1(), query2(), query3()]\n",
    "\n",
    "my_query()"
   ]
  },
  {
   "attachments": {},
   "cell_type": "markdown",
   "id": "14702142-e5c5-4f61-94d1-0578e8da6b9e",
   "metadata": {},
   "source": [
    "- Quelle est la sensibilité globale $l_1$ de la fonction `my_query`? Justifiez votre réponse\n",
    "- Quelle est la sensibilité globale $l_2$ de la fonction `my_query`? Justifiez votre réponse"
   ]
  },
  {
   "attachments": {},
   "cell_type": "markdown",
   "id": "5c9678f6-5630-4e3e-8366-b036fb20c130",
   "metadata": {},
   "source": [
    "### Question 23 (4 points)\n",
    "Proposer une fonction `my_query_lap` pour publier les résultats de l'appel de `my_query()` avec le mécanisme Laplace, sans utiliser la composition séquentielle.\n",
    "\n",
    "*Astuce* : Utilisez `laplace_mech_vec`, en faisant attention à la sensibilité !"
   ]
  },
  {
   "cell_type": "code",
   "execution_count": null,
   "id": "fc3ecd97-b865-4e57-8876-f2287c7bcbeb",
   "metadata": {},
   "outputs": [],
   "source": [
    "def my_query_lap(epsilon):\n",
    "    # Votre code ici\n",
    "    raise NotImplementedError()\n",
    "\n",
    "my_query_lap(1.0)"
   ]
  },
  {
   "attachments": {},
   "cell_type": "markdown",
   "id": "52cddce2-a666-4bcc-9b1d-1f22b7959e7f",
   "metadata": {},
   "source": [
    "### Question 24 (4 points)\n",
    "Proposer une fonction `my_query_gauss` pour publier les résultats de l'appel de `my_query()` avec le mécanisme Gaussien, sans utiliser la composition séquentielle.\n",
    "\n",
    "*Astuce* : Utilisez `gaussian_mech_vec`, en faisant attention à la sensibilité !"
   ]
  },
  {
   "cell_type": "code",
   "execution_count": null,
   "id": "6881b9a1-ba5c-4c0a-8a74-1edee1816553",
   "metadata": {},
   "outputs": [],
   "source": [
    "def my_query_gauss(epsilon, delta):\n",
    "    # Votre code ici\n",
    "    raise NotImplementedError()\n",
    "\n",
    "my_query_gauss(1.0, 1e-5)"
   ]
  },
  {
   "attachments": {},
   "cell_type": "markdown",
   "id": "647f3e51-7a15-4526-bac7-d2298a7f8e6a",
   "metadata": {},
   "source": [
    "### Question 25 (3 points)\n",
    "- Le code ci-dessous définit un ensemble fini d'options pour la colonne `Marital Status`. \n",
    "- Proposer une *fonction de scoring* `score` qui renvoie des scores élevés pour les statuts matrimoniaux courants et des scores faibles pour les statuts peu courants (par exemple, le score peut être le nombre de personnes ayant ce statut)."
   ]
  },
  {
   "cell_type": "code",
   "execution_count": null,
   "id": "3992ac35-25f6-469a-b402-ec80d47d761d",
   "metadata": {},
   "outputs": [],
   "source": [
    "options = list(adult['Marital Status'].unique())"
   ]
  },
  {
   "cell_type": "code",
   "execution_count": null,
   "id": "e545e8b3-ab1e-475f-a6e3-f76b6afa4f48",
   "metadata": {},
   "outputs": [],
   "source": [
    "def score(option):\n",
    "    # Votre code ici\n",
    "    raise NotImplementedError()\n",
    "    \n",
    "score('Married-AF-spouse')"
   ]
  },
  {
   "cell_type": "code",
   "execution_count": null,
   "id": "af5a1230-8b86-4b7a-866e-79993b3bd53e",
   "metadata": {},
   "outputs": [],
   "source": [
    "# test unitaire\n",
    "assert score('Never-married') == 9726"
   ]
  },
  {
   "attachments": {},
   "cell_type": "markdown",
   "id": "59a0832d-764c-45d3-916d-4f0cf42f103a",
   "metadata": {},
   "source": [
    "### Question 26 (4 points)\n",
    "- À l'aide de la méthode `laplace_mech` implémentez le mécanisme `report_noisy_max` qui retourne l'élement ayant le plus grand score dans une liste d'élements"
   ]
  },
  {
   "cell_type": "code",
   "execution_count": null,
   "id": "5f7ccd28-b93b-47ab-aba3-8c47d409de3d",
   "metadata": {},
   "outputs": [],
   "source": [
    "def report_noisy_max(elmts, score, sensitivity, epsilon):\n",
    "    # Votre code ici\n",
    "    raise NotImplementedError()\n",
    "    \n",
    "report_noisy_max(options, score, 1, 1)"
   ]
  },
  {
   "attachments": {},
   "cell_type": "markdown",
   "id": "72dbf975-44df-4ed3-a61f-fb2f3f91210c",
   "metadata": {},
   "source": [
    "### Partie II (15 points)"
   ]
  },
  {
   "attachments": {},
   "cell_type": "markdown",
   "id": "1ed3474b-e569-49fc-9c28-e9b8a422a688",
   "metadata": {},
   "source": [
    "### Question 27 (3 points)\n",
    "- Installez la librairie `dduo-python` en suivant les instructions sur le repo github officiel ([Lien ici](https://github.com/uvm-plaid/dduo-python))\n",
    "- En se basant sur le github officiel ([Lien ici](https://github.com/uvm-plaid/dduo-python)) et le papier décrivant la librairie `dduo-python` ([lien ici\n",
    "](https://arxiv.org/pdf/2103.08805.pdf)), (1) donnez une description générale de la librairie, (2) nommez deux fonctionnalités de cette librairies et (3) montrez comment elle peut assister dans le design de mécanismes différentiellement confidentiels"
   ]
  },
  {
   "cell_type": "code",
   "execution_count": null,
   "id": "2b04b8c6-1291-402b-a7a3-1b2c1bbc3eed",
   "metadata": {},
   "outputs": [],
   "source": [
    "# importation des librairies\n",
    "import duet\n",
    "from duet import pandas as pd\n",
    "from duet import numpy as np\n",
    "import matplotlib.pyplot as plt"
   ]
  },
  {
   "cell_type": "code",
   "execution_count": null,
   "id": "b372c2b1-a0c2-4493-965f-f3aeeda82bf5",
   "metadata": {},
   "outputs": [],
   "source": [
    "# importation du jeux de données\n",
    "adult = pd.read_csv('https://github.com/tisl-lab/data-privacy-class/blob/main/data/adult_with_pii.csv?raw=true')\n",
    "adult = adult.dropna()"
   ]
  },
  {
   "attachments": {},
   "cell_type": "markdown",
   "id": "3367317a-99d9-4973-be47-ffd005abcaea",
   "metadata": {},
   "source": [
    "### Question 28 (3 points)\n",
    "- À l'aide de la librairie `dduo-python`, proposez un mécanisme générique de comptage `dp_counting_query` qui prend en entrées, `un dataframe`, `une expression` (i.e., condition sur des colonnes) et `une valeur de epsilon` et qui retourne le compte bruité à l'aide du **mécanisme Laplace**. Vous devez utiliser pour cette question la fonction `duet.laplace`\n",
    "- À l'aide du mécanisme `dp_counting_query` ainsi crée donner le compte bruité du nombre de femmes dont le métier (Occupation) est `Exec-managerial` pour epsilon = $0.1$\n",
    "- À l'aide du tracker du budget de confidentialité `duet.EDOdometer()` montrer que le mécanisme ainsi implémenté a bien un budget de confidentialité de $0.1$"
   ]
  },
  {
   "attachments": {},
   "cell_type": "markdown",
   "id": "d5e08844-b98d-4414-8244-fd7dd75c9a4b",
   "metadata": {},
   "source": [
    "### Question 29 (3 points)\n",
    "- À l'aide de la librairie `dduo-python`, proposez un mécanisme de calcul d'histogramme `dp_histogram` qui prend en entrées, `un dataframe`, `une colonne` et `une valeur de epsilon` et qui retourne le l'histogramme bruité à l'aide du **mécanisme Laplace** et la composition parallèle. Vous devez utiliser pour cette question la fonction `duet.laplace`\n",
    "- À l'aide du mécanisme `dp_histogram` ainsi crée donner l'histogramme bruité de la colonne `Occupation` pour epsilon = $0.1$\n",
    "- À l'aide du tracker du budget de confidentialité `duet.EDOdometer()` montrer que le mécanisme ainsi implémenté a bien un budet de confidentialité de $0.1$"
   ]
  },
  {
   "attachments": {},
   "cell_type": "markdown",
   "id": "d98fc004-5452-40ff-b473-e3d9b8f54ef4",
   "metadata": {},
   "source": [
    "### Question 30 (6 points)\n",
    "- Installez la librairie `smartnoise-synth` en suivant les instructions sur le repo github officiel ([Lien ici](https://github.com/opendp/smartnoise-sdk/tree/main/synth))\n",
    "- En se basant sur le github officiel ([Lien ici](https://github.com/opendp/smartnoise-sdk/tree/main/synth)) et la documentation ([lien ici\n",
    "](https://docs.smartnoise.org/synth/index.html)), donnez une description générale de la librairie\n",
    "- Quelle est la différence entre **Synthétiseurs marginaux** (`Marginal Synthesizers`) et **Synthétiseurs à base de réseaux de neuronnes** (`Neural Network Synthesizers`)\n",
    "- Expliquez en quelques phrases le principe de focntionnement du mécanisme **Multiplicative Weights Exponential Mechanism** (`MWEM`)\n",
    "- À l'aide de ce mécanisme, proposer un script qui génère une version synthétique du jeu de données `Adult`. Vous devez expliquer les différentes partie du script."
   ]
  }
 ],
 "metadata": {
  "kernelspec": {
   "display_name": "gti720",
   "language": "python",
   "name": "python3"
  },
  "language_info": {
   "codemirror_mode": {
    "name": "ipython",
    "version": 3
   },
   "file_extension": ".py",
   "mimetype": "text/x-python",
   "name": "python",
   "nbconvert_exporter": "python",
   "pygments_lexer": "ipython3",
   "version": "3.12.2"
  }
 },
 "nbformat": 4,
 "nbformat_minor": 5
}
